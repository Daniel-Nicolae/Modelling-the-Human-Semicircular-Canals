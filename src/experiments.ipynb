{
 "cells": [
  {
   "cell_type": "code",
   "execution_count": 1,
   "metadata": {},
   "outputs": [
    {
     "name": "stdout",
     "output_type": "stream",
     "text": [
      "Jupyter environment detected. Enabling Open3D WebVisualizer.\n",
      "[Open3D INFO] WebRTC GUI backend enabled.\n",
      "[Open3D INFO] WebRTCWindowSystem: HTTP handshake server disabled.\n"
     ]
    }
   ],
   "source": [
    "from vis import *\n",
    "from landmarks import *\n",
    "from variations import *\n",
    "import matplotlib.pyplot as plt"
   ]
  },
  {
   "cell_type": "code",
   "execution_count": 2,
   "metadata": {},
   "outputs": [],
   "source": [
    "visualise_canal_mesh(9, \"posterior\")"
   ]
  },
  {
   "cell_type": "code",
   "execution_count": null,
   "metadata": {},
   "outputs": [],
   "source": [
    "# visualise_canal_planes(range(1, 25), \"lateral\")\n",
    "visualise_subject_planes(2) "
   ]
  },
  {
   "cell_type": "markdown",
   "metadata": {},
   "source": [
    "### Slider and GUI experiments"
   ]
  },
  {
   "cell_type": "code",
   "execution_count": 2,
   "metadata": {},
   "outputs": [],
   "source": [
    "visualise_variation_modes(1, \"posterior\")"
   ]
  },
  {
   "cell_type": "code",
   "execution_count": null,
   "metadata": {},
   "outputs": [],
   "source": [
    "subject = 9\n",
    "canal = \"posterior\"\n",
    "\n",
    "v, t = get_canal_mesh(subject, canal)\n",
    "canal_mesh = o3d.geometry.TriangleMesh()\n",
    "canal_mesh.vertices = o3d.utility.Vector3dVector(v)\n",
    "canal_mesh.triangles = o3d.utility.Vector3iVector(t)\n",
    "canal_mesh.compute_vertex_normals()\n",
    "canal_mesh.paint_uniform_color([0.49019608, 0.51764706, 1]) \n",
    "\n",
    "def screenshot(vis):\n",
    "    vis.capture_screen_image(\"subject {} {}.png\".format(subject, canal), do_render=False)\n",
    "\n",
    "def rotate_view(vis):\n",
    "    ctr = vis.get_view_control()\n",
    "    ctr.rotate(10.0, 0.0)\n",
    "    return False\n",
    "\n",
    "vis = o3d.visualization.VisualizerWithKeyCallback()\n",
    "vis.create_window()\n",
    "vis.add_geometry(canal_mesh)\n",
    "vis.get_render_option().mesh_show_back_face = True\n",
    "vis.register_animation_callback(rotate_view)\n",
    "# vis.register_key_callback(ord(\"W\"), screenshot)\n",
    "# vis.set_full_screen(True)\n",
    "\n",
    "vis.run()\n",
    "vis.destroy_window()"
   ]
  },
  {
   "cell_type": "markdown",
   "metadata": {},
   "source": [
    "### Horn's analysis"
   ]
  },
  {
   "cell_type": "code",
   "execution_count": null,
   "metadata": {},
   "outputs": [],
   "source": [
    "canal = \"anterior\"\n",
    "rd2, fd2, vd2 = load_fiducials_dicts(visible=True)\n",
    "vertices, t = get_canal_mesh(right[0], canal)\n",
    "sample_cov = np.zeros((len(vertices)*3, len(vertices)*3))\n",
    "# for subject in right:\n",
    "#     vertices, t = get_canal_mesh(subject, canal)\n",
    "#     vertices -= np.mean(vertices, axis=0)\n",
    "#     vertices = rotate_vertices(vertices, get_rotation_matrix(subject, get_landmarks_from_key(fd2[canal])))\n",
    "#     vertices = vertices.reshape(vertices.shape[0] * 3)\n",
    "#     sample_cov += np.outer(vertices, vertices)\n",
    "\n",
    "p = len(right)\n",
    "N = len(right)\n",
    "B = 300\n",
    "\n",
    "evals_matrix = []\n",
    "for b in range(B):\n",
    "    sample_cov = np.zeros((p, p))\n",
    "    for n in range(N):\n",
    "        x = np.random.normal(0, 1, p)   \n",
    "        sample_cov += np.outer(x, x)\n",
    "    sample_cov /= N - 1\n",
    "    corr = get_correlation_from_covariance(sample_cov)\n",
    "    evals, evecs = np.linalg.eigh(sample_cov)\n",
    "    evals_matrix.append(evals)\n",
    "\n",
    "evals_matrix = np.array(evals_matrix)\n",
    "thresholds = np.percentile(evals_matrix, 95, axis=0)\n",
    "thresholds[-20:]"
   ]
  },
  {
   "cell_type": "code",
   "execution_count": null,
   "metadata": {},
   "outputs": [],
   "source": [
    "canal = \"anterior\"\n",
    "rd2, fd2, vd2 = load_fiducials_dicts(visible=True)\n",
    "vertices, t = get_canal_mesh(right[0], canal)\n",
    "sample_cov = np.zeros((len(vertices)*3, len(vertices)*3))\n",
    "mean_vertices = np.zeros(len(vertices)*3)\n",
    "for subject in right:\n",
    "    vertices, t = get_canal_mesh(subject, canal)\n",
    "    rotation = get_rotation_matrix(subject, get_landmarks_from_key(fd2[canal]))\n",
    "    vertices = rotate_vertices(vertices-np.mean(vertices, axis=0), rotation)\n",
    "    mean_vertices += vertices.reshape(vertices.shape[0] * 3)\n",
    "mean_vertices /= len(right)\n",
    "for subject in right:\n",
    "    vertices, t = get_canal_mesh(subject, canal)\n",
    "    rotation = get_rotation_matrix(subject, get_landmarks_from_key(fd2[canal]))\n",
    "    vertices = rotate_vertices(vertices-np.mean(vertices, axis=0), rotation)\n",
    "    vertices = vertices.reshape(vertices.shape[0] * 3)\n",
    "    sample_cov += np.outer(vertices - mean_vertices, vertices - mean_vertices)\n",
    "sample_cov /= len(right) - 1\n",
    "evals, evecs = np.linalg.eigh(get_correlation_from_covariance(sample_cov))"
   ]
  },
  {
   "cell_type": "markdown",
   "metadata": {},
   "source": [
    "### Rewrite the fiducial ranking"
   ]
  },
  {
   "cell_type": "code",
   "execution_count": 3,
   "metadata": {},
   "outputs": [
    {
     "data": {
      "text/plain": [
       "414"
      ]
     },
     "execution_count": 3,
     "metadata": {},
     "output_type": "execute_result"
    }
   ],
   "source": [
    "results_dict, best_fids_dict, min_angs_dict, max_improvs_dict, kept_dict = load_fiducials_dicts(True)\n",
    "len(results_dict)"
   ]
  },
  {
   "cell_type": "markdown",
   "metadata": {},
   "source": [
    "### Plane fit evaluation"
   ]
  },
  {
   "cell_type": "code",
   "execution_count": 7,
   "metadata": {},
   "outputs": [],
   "source": [
    "evs = np.zeros((3, 3, len(right)))\n",
    "canals = [\"posterior\", \"anterior\", \"lateral\"]\n",
    "for c, canal in enumerate(canals):\n",
    "    for s, subject in enumerate(right):\n",
    "        vals, vecs, vertices = get_canal_plane(subject, canal)\n",
    "        evs[c, :, s] = vals"
   ]
  },
  {
   "cell_type": "code",
   "execution_count": 8,
   "metadata": {},
   "outputs": [
    {
     "data": {
      "text/plain": [
       "<matplotlib.legend.Legend at 0x1c5de4278e0>"
      ]
     },
     "execution_count": 8,
     "metadata": {},
     "output_type": "execute_result"
    },
    {
     "data": {
      "image/png": "[encoded data removed]",
      "text/plain": [
       "<Figure size 1200x300 with 3 Axes>"
      ]
     },
     "metadata": {},
     "output_type": "display_data"
    }
   ],
   "source": [
    "fig, axs = plt.subplots(1, 3, figsize = (12, 3))\n",
    "colors = [[1, 0.6, 0.2], [0.2, 1, 0.6], [0.6, 0.2, 1]]\n",
    "for c, canal in enumerate(canals):\n",
    "    axs[c].hist(evs[c, 0], color = colors[0], bins=11, label=\"$\\lambda_1$\")\n",
    "    axs[c].hist(evs[c, 1], color = colors[1], alpha=0.9, label=\"$\\lambda_2$\")\n",
    "    axs[c].hist(evs[c, 2], color = colors[2], alpha=0.9, label=\"$\\lambda_3$\")\n",
    "    axs[c].set_xscale('log')\n",
    "    axs[c].set_title(canal, fontsize=13)\n",
    "    axs[c].set_ylim((0, 13))\n",
    "    axs[c].tick_params(labelsize=11)\n",
    "    axs[c].set_xlim((0.1, 11))\n",
    "    if c==0: axs[c].set_ylabel(\"counts\", fontsize=13)\n",
    "    # axs[c].set_xticks(np.arange(0, 10, 2))\n",
    "    # axs[c].set_yticks(np.arange(-4, 6, 2))\n",
    "plt.legend(loc=(-1.21, 1.13), ncol=3, fontsize=12)"
   ]
  },
  {
   "cell_type": "code",
   "execution_count": 109,
   "metadata": {},
   "outputs": [
    {
     "name": "stdout",
     "output_type": "stream",
     "text": [
      "posterior 25.490313285188208 30.602208816085245 1.204284105444536\n",
      "anterior 14.266345150385783 29.266518198365283 2.0682223737783576\n",
      "lateral 12.064539560039027 26.11639608490594 2.188303079318611\n"
     ]
    }
   ],
   "source": [
    "for c, canal in enumerate(canals):\n",
    "    print(canal, np.mean(evs[c, 1, :]/evs[c, 0, :]), np.mean(evs[c, 2, :]/evs[c, 0, :]), np.mean(evs[c, 2, :]/evs[c, 1, :]))"
   ]
  },
  {
   "cell_type": "code",
   "execution_count": 137,
   "metadata": {},
   "outputs": [],
   "source": [
    "R2s = np.zeros((3, len(right)))\n",
    "for c, canal in enumerate(canals):\n",
    "    for s, subject in enumerate(right):\n",
    "        R2s[c, s] = 1 - evs[c, 0, s]/np.prod(evs[c, :, s])"
   ]
  },
  {
   "cell_type": "code",
   "execution_count": 139,
   "metadata": {},
   "outputs": [
    {
     "name": "stdout",
     "output_type": "stream",
     "text": [
      "[0.9676309  0.96348953 0.900747  ]\n",
      "[0.94493024 0.93287673 0.82434199]\n",
      "[0.984164   0.97768594 0.94961694]\n"
     ]
    }
   ],
   "source": [
    "print(np.mean(R2s, axis = 1), np.min(R2s, axis = 1), np.max(R2s, axis = 1), sep=\"\\n\")"
   ]
  }
 ],
 "metadata": {
  "kernelspec": {
   "display_name": "graphics_env",
   "language": "python",
   "name": "python3"
  },
  "language_info": {
   "codemirror_mode": {
    "name": "ipython",
    "version": 3
   },
   "file_extension": ".py",
   "mimetype": "text/x-python",
   "name": "python",
   "nbconvert_exporter": "python",
   "pygments_lexer": "ipython3",
   "version": "3.10.13"
  }
 },
 "nbformat": 4,
 "nbformat_minor": 2
}
