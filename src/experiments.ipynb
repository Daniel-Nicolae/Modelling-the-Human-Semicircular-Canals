{
 "cells": [
  {
   "cell_type": "code",
   "execution_count": 1,
   "metadata": {},
   "outputs": [
    {
     "name": "stdout",
     "output_type": "stream",
     "text": [
      "Jupyter environment detected. Enabling Open3D WebVisualizer.\n",
      "[Open3D INFO] WebRTC GUI backend enabled.\n",
      "[Open3D INFO] WebRTCWindowSystem: HTTP handshake server disabled.\n"
     ]
    }
   ],
   "source": [
    "from vis import *\n",
    "from landmarks import *"
   ]
  },
  {
   "cell_type": "code",
   "execution_count": 3,
   "metadata": {},
   "outputs": [],
   "source": [
    "# Overlapped visualisation\n",
    "landmarks = [\"right bony anterior\", 'right top orbit', \"nasion\"]\n",
    "annotated = [3, 4, 6, 7, 8, 9, 10, 11, 14, 15, 17, 18, 20, 21, 22, 23, 24]\n",
    "meshes = []\n",
    "for i in annotated:\n",
    "    path = get_ply_path(i)\n",
    "    mesh = o3d.io.read_triangle_mesh(path)\n",
    "    mesh_coloured = colour_mesh(mesh)\n",
    "    matrix = get_rotation_matrix(i, landmarks)\n",
    "    mesh_rotated = transform_mesh(mesh_coloured, matrix)\n",
    "    mesh_rotated.compute_vertex_normals()\n",
    "    if i == 13: mesh_rotated.vertices = o3d.utility.Vector3dVector(flip_left(mesh_rotated))\n",
    "    mesh_rotated.vertices = o3d.utility.Vector3dVector(center_mesh_vertices(mesh_rotated))\n",
    "    meshes.append(mesh_rotated)\n",
    "o3d.visualization.draw_geometries(meshes, mesh_show_back_face=True)"
   ]
  },
  {
   "cell_type": "code",
   "execution_count": 2,
   "metadata": {},
   "outputs": [],
   "source": [
    "# visualise_canal_planes(range(1, 25), \"lateral\")\n",
    "visualise_subject_planes(2) "
   ]
  },
  {
   "cell_type": "code",
   "execution_count": 3,
   "metadata": {},
   "outputs": [
    {
     "name": "stdout",
     "output_type": "stream",
     "text": [
      "[[ 0.28303564 -0.9222884   0.22235948]\n",
      " [ 0.89695403  0.1813116  -0.39342845]\n",
      " [ 0.32463933  0.31279246  0.88314247]]\n",
      "[[0.07431068 0.04614838 0.11036052]\n",
      " [0.02780493 0.06835768 0.04865936]\n",
      " [0.06064983 0.10894328 0.03581236]]\n"
     ]
    }
   ],
   "source": [
    "annotated = [3, 4, 6, 7, 8, 9, 10, 11, 13, 14, 15, 17, 18, 20, 21, 22, 23, 24]\n",
    "landmarks = [\"right bony anterior\", 'right top orbit', \"nasion\"]\n",
    "visualise_canal_planes(annotated, \"anterior\", landmarks)\n",
    "# visualise_canal_planes(annotated, \"lateral\")\n",
    "matrices = []\n",
    "for i in annotated:\n",
    "    matrices.append(get_rotation_matrix(i, landmarks))\n",
    "print(np.mean(matrices, axis = 0))\n",
    "print(np.std(matrices, axis = 0))"
   ]
  }
 ],
 "metadata": {
  "kernelspec": {
   "display_name": "graphics_env",
   "language": "python",
   "name": "python3"
  },
  "language_info": {
   "codemirror_mode": {
    "name": "ipython",
    "version": 3
   },
   "file_extension": ".py",
   "mimetype": "text/x-python",
   "name": "python",
   "nbconvert_exporter": "python",
   "pygments_lexer": "ipython3",
   "version": "3.10.13"
  }
 },
 "nbformat": 4,
 "nbformat_minor": 2
}
